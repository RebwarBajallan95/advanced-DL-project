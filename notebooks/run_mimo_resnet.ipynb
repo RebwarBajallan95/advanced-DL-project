{
 "cells": [
  {
   "cell_type": "code",
   "execution_count": null,
   "source": [
    "import warnings\n",
    "warnings.filterwarnings(\"ignore\", category=DeprecationWarning)"
   ],
   "outputs": [],
   "metadata": {}
  },
  {
   "cell_type": "code",
   "execution_count": null,
   "source": [
    "# Clone project from github\n",
    "#! rm -r advanced-DL-project\n",
    "! git clone \"https://github.com/RebwarBajallan95/advanced-DL-project\"\n",
    "! cd advanced-DL-project\n",
    "\n",
    "import os\n",
    "os.chdir(\"./advanced-DL-project\")"
   ],
   "outputs": [],
   "metadata": {}
  },
  {
   "cell_type": "code",
   "execution_count": null,
   "source": [
    "import torch\n",
    "from torch.autograd import Variable\n",
    "import torchvision\n",
    "import torchvision.transforms as transforms\n",
    "from mimo_resnet28_10 import mimo_wide_resnet28\n",
    "\n",
    "%load_ext autoreload\n",
    "%autoreload 2\n",
    "\n",
    "torch.backends.cudnn.benchmark = True\n",
    "\n",
    "# set seed\n",
    "torch.manual_seed(0)\n",
    "# set torch.device\n",
    "device = torch.device(\"cuda:0\" if torch.cuda.is_available() else \"cpu\")\n",
    "# Print to see if you have GPU available, if no GPU => change colab runtime\n",
    "print(f'GPU: {torch.cuda.get_device_name(0)}')"
   ],
   "outputs": [],
   "metadata": {}
  },
  {
   "cell_type": "code",
   "execution_count": null,
   "source": [
    "cifar10_mean = (0.4914, 0.4822, 0.4465) \n",
    "cifar10_std = (0.2470, 0.2435, 0.2616)\n",
    "\n",
    "# Image preprocessing modules\n",
    "transform = transforms.Compose([\n",
    "    transforms.RandomCrop(32, padding=4),\n",
    "    transforms.RandomHorizontalFlip(),\n",
    "    transforms.ToTensor(),\n",
    "    transforms.Normalize(cifar10_mean, cifar10_std)])\n",
    "\n",
    "batch_size = 128\n",
    "\n",
    "trainset = torchvision.datasets.CIFAR10(root='./data', train=True,\n",
    "                                        download=True, transform=transform)\n",
    "\n",
    "trainloader = torch.utils.data.DataLoader(\n",
    "                                        trainset, \n",
    "                                        batch_size=batch_size,\n",
    "                                        shuffle=True, \n",
    "                                        pin_memory=True,\n",
    "                                        drop_last=True, \n",
    "                                        \n",
    "                                    )\n",
    "\n",
    "testset = torchvision.datasets.CIFAR10(root='./data', train=False,\n",
    "                                       download=True, transform=transform)\n",
    "                                       \n",
    "testloader = torch.utils.data.DataLoader(\n",
    "                                    testset, \n",
    "                                    batch_size=batch_size,\n",
    "                                    shuffle=False,\n",
    "                                    pin_memory=True,\n",
    "                                )\n",
    "\n",
    "classes = ('plane', 'car', 'bird', 'cat',\n",
    "           'deer', 'dog', 'frog', 'horse', 'ship', 'truck')"
   ],
   "outputs": [],
   "metadata": {}
  },
  {
   "cell_type": "code",
   "execution_count": null,
   "source": [
    "import numpy as np\n",
    "from mimo_resnet28_10 import mimo_wide_resnet28\n",
    "\n",
    "%load_ext autoreload\n",
    "%autoreload 2\n",
    "\n",
    "device = torch.device(\"cuda\" if torch.cuda.is_available() else \"cpu\")\n",
    "model = mimo_wide_resnet28(\n",
    "    input_shape=(3, 3, 32, 32), # NOTE: PyTorch expects (n_samples, channels, height, width)\n",
    "    width_multiplier=10,\n",
    "    num_classes=10,\n",
    "    ensemble_size=3,\n",
    "    batch_repitition=4\n",
    ").to(device)"
   ],
   "outputs": [],
   "metadata": {}
  },
  {
   "cell_type": "code",
   "execution_count": null,
   "source": [
    "torch.cuda.empty_cache()\n",
    "model.fit(\n",
    "        trainloader, \n",
    "        testloader, \n",
    "        epochs=250, \n",
    "        trainset_size=len(trainset), \n",
    "        batch_size=batch_size\n",
    "    )"
   ],
   "outputs": [],
   "metadata": {}
  },
  {
   "cell_type": "code",
   "execution_count": null,
   "source": [
    "import gc\n",
    "  \n",
    "gc.collect()\n",
    "torch.cuda.empty_cache()"
   ],
   "outputs": [],
   "metadata": {}
  }
 ],
 "metadata": {
  "orig_nbformat": 4,
  "language_info": {
   "name": "python",
   "version": "3.7.10",
   "mimetype": "text/x-python",
   "codemirror_mode": {
    "name": "ipython",
    "version": 3
   },
   "pygments_lexer": "ipython3",
   "nbconvert_exporter": "python",
   "file_extension": ".py"
  },
  "kernelspec": {
   "name": "python3",
   "display_name": "Python 3.7.10 64-bit ('base': conda)"
  },
  "interpreter": {
   "hash": "98b0a9b7b4eaaa670588a142fd0a9b87eaafe866f1db4228be72b4211d12040f"
  }
 },
 "nbformat": 4,
 "nbformat_minor": 2
}