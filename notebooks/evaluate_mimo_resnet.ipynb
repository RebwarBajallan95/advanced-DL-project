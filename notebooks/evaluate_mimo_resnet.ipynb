{
 "cells": [
  {
   "cell_type": "code",
   "execution_count": null,
   "source": [
    "import torch\n",
    "import gc\n",
    "import os\n",
    "from torch.autograd import Variable\n",
    "import torchvision\n",
    "import torchvision.transforms as transforms\n",
    "import matplotlib.pyplot as plt\n",
    "from sklearn.manifold import TSNE\n",
    "import matplotlib.pyplot as plt\n",
    "import seaborn as sns\n",
    "import pandas as pd\n",
    "import numpy as np\n",
    "from time import time\n",
    "\n",
    "\n",
    "os.chdir(\"./advanced-DL-project\")\n",
    "\n",
    "from mimo_eval import eval\n",
    "#from resnet18_10 import mimo_wide_resnet18\n",
    "#from resnet18_10_deter import wide_resnet18\n",
    "\n",
    "%load_ext autoreload\n",
    "%autoreload 2\n",
    "\n",
    "gc.collect()\n",
    "torch.cuda.empty_cache()"
   ],
   "outputs": [],
   "metadata": {}
  },
  {
   "cell_type": "code",
   "execution_count": null,
   "source": [
    "mimo_resnet = torch.load(\"/home/rebwarbajallan/mimo_resnet18_10_new_1.pt\")\n",
    "resnet = torch.load(\"/home/rebwarbajallan/resnet18_10_new_1.pt\")"
   ],
   "outputs": [],
   "metadata": {}
  },
  {
   "cell_type": "code",
   "execution_count": null,
   "source": [
    "cifar10_mean = (0.4914, 0.4822, 0.4465) \n",
    "cifar10_std = (0.2470, 0.2435, 0.2616)\n",
    "\n",
    "# Image preprocessing modules\n",
    "transform = transforms.Compose(\n",
    "    [transforms.ToTensor(),\n",
    "     transforms.Normalize(cifar10_mean, cifar10_std)])\n",
    "\n",
    "batch_size = 128\n",
    "\n",
    "testset = torchvision.datasets.CIFAR10(root='./data', train=False,\n",
    "                                       download=True, transform=transform)\n",
    "                                       \n",
    "testloader = torch.utils.data.DataLoader(\n",
    "                                    testset, \n",
    "                                    batch_size=batch_size,\n",
    "                                    shuffle=False,\n",
    "                                    pin_memory=True,\n",
    "                                )\n",
    "\n",
    "classes = ('plane', 'car', 'bird', 'cat',\n",
    "           'deer', 'dog', 'frog', 'horse', 'ship', 'truck')"
   ],
   "outputs": [],
   "metadata": {}
  },
  {
   "cell_type": "code",
   "execution_count": null,
   "source": [
    "time_start = time()\n",
    "resnet.eval(testloader) \n",
    "time_end = time()\n",
    "print(f\"Prediction time: {(time_end - time_start) / batch_size}\")"
   ],
   "outputs": [],
   "metadata": {}
  },
  {
   "cell_type": "code",
   "execution_count": null,
   "source": [
    "from mimo_eval import eval\n",
    "\n",
    "time_start = time()\n",
    "\n",
    "(\n",
    "    accuracy, \n",
    "    running_loss, \n",
    "    running_ece, \n",
    "    member_accuracies,\n",
    "    member_losses, \n",
    "    member_logits,\n",
    "    pairwise_disagreement, pairwise_kl_diversity\n",
    ") = eval(mimo_resnet, testloader)\n",
    "\n",
    "time_end = time()\n",
    "print(f\"Prediction time MIMO: {(time_end - time_start) / batch_size}\")\n"
   ],
   "outputs": [],
   "metadata": {}
  },
  {
   "cell_type": "code",
   "execution_count": null,
   "source": [
    "print(\"Disagreement: \", pairwise_disagreement)\n",
    "print(\"KL diversity: \", pairwise_kl_diversity)"
   ],
   "outputs": [],
   "metadata": {}
  },
  {
   "cell_type": "code",
   "execution_count": null,
   "source": [
    "stats = mimo_resnet.running_stats\n",
    "\n",
    "member_accs = {\"0\": [], \"1\": [], \"2\": []}\n",
    "mimo_acc = []\n",
    "for epoch in stats:\n",
    "    epoch_stats = stats[epoch]\n",
    "    accs = epoch_stats[\"Testing Accuracies\"]\n",
    "    mimo_acc.append(epoch_stats[\"Testing Accuracy\"])\n",
    "    for ens in range(mimo_resnet.ensemble_size):\n",
    "        if member_accs[f\"{ens}\"] is None:\n",
    "            member_accs[ens] = []\n",
    "        member_accs[f\"{ens}\"].append(accs[ens])\n",
    "\n",
    "epochs = range(len(stats))"
   ],
   "outputs": [],
   "metadata": {}
  },
  {
   "cell_type": "code",
   "execution_count": null,
   "source": [
    "# Plot training accuracies as function of epochs\n",
    "import seaborn as sns\n",
    "import matplotlib.pyplot as plt\n",
    "import pandas as pd\n",
    " \n",
    "plt.figure(constrained_layout=True, figsize=(7, 4))\n",
    "plt.style.use(\"default\")\n",
    "\n",
    "plt.plot(epochs, member_accs[\"0\"], label=\"subnet 1\")\n",
    "plt.plot(epochs, member_accs[\"1\"], label=\"subnet 2\")\n",
    "plt.plot(epochs, member_accs[\"2\"], label=\"subnet 3\")\n",
    "plt.plot(epochs, mimo_acc, label=\"MIMO\")\n",
    "\n",
    "plt.xlabel(\"Epoch\")\n",
    "plt.ylabel(\"Accuracy\")\n",
    "plt.grid(True)\n",
    "plt.legend()\n",
    "\n",
    "\n",
    "plt.show()"
   ],
   "outputs": [],
   "metadata": {}
  },
  {
   "cell_type": "code",
   "execution_count": null,
   "source": [
    "import gc\n",
    "  \n",
    "gc.collect()\n",
    "torch.cuda.empty_cache()"
   ],
   "outputs": [],
   "metadata": {}
  }
 ],
 "metadata": {
  "orig_nbformat": 4,
  "language_info": {
   "name": "python",
   "version": "3.7.10",
   "mimetype": "text/x-python",
   "codemirror_mode": {
    "name": "ipython",
    "version": 3
   },
   "pygments_lexer": "ipython3",
   "nbconvert_exporter": "python",
   "file_extension": ".py"
  },
  "kernelspec": {
   "name": "python3",
   "display_name": "Python 3.7.10 64-bit ('base': conda)"
  },
  "interpreter": {
   "hash": "98b0a9b7b4eaaa670588a142fd0a9b87eaafe866f1db4228be72b4211d12040f"
  }
 },
 "nbformat": 4,
 "nbformat_minor": 2
}